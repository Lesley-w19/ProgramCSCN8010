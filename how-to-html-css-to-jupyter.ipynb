{
 "cells": [
  {
   "cell_type": "markdown",
   "id": "c34be9e9",
   "metadata": {},
   "source": [
    "# Using HTML and CSS in Jupyter Notebooks\n",
    "\n",
    "This notebook demonstrates how to display and style HTML content using CSS directly in notebook cells."
   ]
  },
  {
   "cell_type": "markdown",
   "id": "f45fba3d",
   "metadata": {},
   "source": [
    "## 1. Display HTML Content\n",
    "\n",
    "You can render HTML directly in notebook cells using IPython's display module."
   ]
  },
  {
   "cell_type": "code",
   "execution_count": null,
   "id": "52d48007",
   "metadata": {},
   "outputs": [],
   "source": [
    "from IPython.display import display, HTML\n",
    "\n",
    "# Simple HTML rendering\n",
    "display(HTML(\"<h2>Hello from HTML!</h2><p>This is a paragraph rendered as HTML.</p>\"))"
   ]
  },
  {
   "cell_type": "markdown",
   "id": "90bcad81",
   "metadata": {},
   "source": [
    "## 2. Style HTML with Inline CSS\n",
    "\n",
    "Embed CSS styles within HTML tags to style elements directly in the notebook."
   ]
  },
  {
   "cell_type": "code",
   "execution_count": null,
   "id": "1e9c2113",
   "metadata": {},
   "outputs": [],
   "source": [
    "from IPython.display import display, HTML\n",
    "\n",
    "# HTML with inline CSS styles\n",
    "html_content = \"\"\"\n",
    "<div style=\"background-color: #f0f8ff; padding: 20px; border-radius: 8px;\">\n",
    "  <h3 style=\"color: #2e8b57;\">Styled Heading</h3>\n",
    "  <p style=\"font-size: 16px; color: #555;\">This paragraph uses inline CSS for styling.</p>\n",
    "</div>\n",
    "\"\"\"\n",
    "display(HTML(html_content))"
   ]
  },
  {
   "cell_type": "markdown",
   "id": "3e36caf1",
   "metadata": {},
   "source": [
    "## 3. Use External CSS in Notebook\n",
    "\n",
    "You can link or inject external CSS stylesheets using HTML or IPython display functions."
   ]
  },
  {
   "cell_type": "code",
   "execution_count": null,
   "id": "54098906",
   "metadata": {},
   "outputs": [],
   "source": [
    "from IPython.display import display, HTML\n",
    "\n",
    "# Inject external CSS (for demonstration, using a CDN)\n",
    "external_css = \"\"\"\n",
    "<link rel=\"stylesheet\" href=\"https://cdnjs.cloudflare.com/ajax/libs/font-awesome/6.4.0/css/all.min.css\">\n",
    "<span class=\"fa fa-check-circle\" style=\"color: green; font-size: 24px;\"></span>\n",
    "<span>Font Awesome icon styled with external CSS.</span>\n",
    "\"\"\"\n",
    "display(HTML(external_css))"
   ]
  },
  {
   "cell_type": "markdown",
   "id": "f0f04b7c",
   "metadata": {},
   "source": [
    "## 4. Interactive HTML Elements\n",
    "\n",
    "Add interactive HTML elements (e.g., buttons) and style them with CSS."
   ]
  },
  {
   "cell_type": "code",
   "execution_count": null,
   "id": "8ef01da5",
   "metadata": {},
   "outputs": [],
   "source": [
    "from IPython.display import display, HTML\n",
    "\n",
    "# Interactive button with CSS styling\n",
    "interactive_html = \"\"\"\n",
    "<button onclick=\"alert('Button clicked!')\" style=\"\n",
    "    background-color: #4CAF50;\n",
    "    color: white;\n",
    "    padding: 10px 24px;\n",
    "    border: none;\n",
    "    border-radius: 4px;\n",
    "    cursor: pointer;\n",
    "    font-size: 16px;\">\n",
    "  Click Me!\n",
    "</button>\n",
    "\"\"\"\n",
    "display(HTML(interactive_html))"
   ]
  }
 ],
 "metadata": {
  "language_info": {
   "name": "python"
  }
 },
 "nbformat": 4,
 "nbformat_minor": 5
}
