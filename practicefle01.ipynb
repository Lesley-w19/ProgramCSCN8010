{
 "cells": [
  {
   "cell_type": "code",
   "execution_count": null,
   "id": "16e87a46",
   "metadata": {},
   "outputs": [],
   "source": [
    "print(\"Hello world!!\")"
   ]
  },
  {
   "cell_type": "markdown",
   "id": "7a63a8d2",
   "metadata": {},
   "source": [
    "### Printing the hello world "
   ]
  }
 ],
 "metadata": {
  "language_info": {
   "name": "python"
  }
 },
 "nbformat": 4,
 "nbformat_minor": 5
}
